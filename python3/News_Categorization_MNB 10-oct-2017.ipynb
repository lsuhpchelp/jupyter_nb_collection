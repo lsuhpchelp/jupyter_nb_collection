{
 "cells": [
  {
   "cell_type": "markdown",
   "metadata": {},
   "source": [
    "# News Categorization using Multinomial Naive Bayes\n",
    "## by [Andrés Soto](https://www.linkedin.com/in/andres-soto-villaverde-36198a5/)"
   ]
  },
  {
   "cell_type": "markdown",
   "metadata": {},
   "source": [
    "Once upon a time, while searching by internet, I discovered [this site](https://www.kaggle.com/uciml/news-aggregator-dataset), where I found this challenge: \n",
    "* Using the News Aggregator Data Set, can we predict the category (business, entertainment, etc.) of a news article given only its headline? \n",
    "So I decided to try to do it using the Multinomial Naive Bayes method."
   ]
  },
  {
   "cell_type": "markdown",
   "metadata": {},
   "source": [
    "The News Aggregator Data Set comes from the UCI Machine Learning Repository. "
   ]
  },
  {
   "cell_type": "markdown",
   "metadata": {},
   "source": [
    "* Lichman, M. (2013). [UCI Machine Learning Repository](http://archive.ics.uci.edu/ml). Irvine, CA: University of California, School of Information and Computer Science. "
   ]
  },
  {
   "cell_type": "markdown",
   "metadata": {},
   "source": [
    "This specific dataset can be found in the UCI ML Repository at [this URL](http://archive.ics.uci.edu/ml/datasets/News+Aggregator)."
   ]
  },
  {
   "cell_type": "markdown",
   "metadata": {},
   "source": [
    "This dataset contains headlines, URLs, and categories for 422,937 news stories collected by a web aggregator between March 10th, 2014 and August 10th, 2014. News categories in this dataset are labelled:"
   ]
  },
  {
   "cell_type": "markdown",
   "metadata": {},
   "source": [
    "Label  |  Category\t| News \n",
    "-------|------------|----------\n",
    "b\t|  business\t|  <div style=\"text-align: right\"> 115967 </div>\n",
    "t\t|  science and technology\t|  <div style=\"text-align: right\"> 108344 </div> \n",
    "e\t| entertainment\t|  <div style=\"text-align: right\"> 152469 </div>\n",
    "m\t|  health\t|  <div style=\"text-align: right\"> 45639 </div> "
   ]
  },
  {
   "cell_type": "markdown",
   "metadata": {},
   "source": [
    "Multinomial Naive Bayes method will be used to predict the category (business, entertainment, etc.) of a news article given only its headline. The paper is divided in four sections. The first section is dedicated to importing the data set and getting some preliminary information about it. Second section explains how to divide data in two sets: the training set and the test set. Section number 3 is about training and testing the classification algorithm and obtaining results. Results analysis constitute the last section. "
   ]
  },
  {
   "cell_type": "markdown",
   "metadata": {},
   "source": [
    "## Import data"
   ]
  },
  {
   "cell_type": "markdown",
   "metadata": {},
   "source": [
    "To import the data from the CSV file, we will use [Pandas library](http://pandas.pydata.org/) which also offers data structures and operations for manipulating data tables. Therefore, we need to import Pandas library. "
   ]
  },
  {
   "cell_type": "markdown",
   "metadata": {},
   "source": [
    "To embed plots inside the Notebook, we use the \"%matplotlib inline\" [magic command](http://ipython.readthedocs.io/en/stable/interactive/magics.html#)."
   ]
  },
  {
   "cell_type": "code",
   "execution_count": 1,
   "metadata": {},
   "outputs": [],
   "source": [
    "%matplotlib inline\n",
    "import pandas as pd "
   ]
  },
  {
   "cell_type": "markdown",
   "metadata": {},
   "source": [
    "Now, we have to initialize some variables that will be used. They will be used to collect the news titles, its categories, as well as a list of the different possible categories (without repetitions)."
   ]
  },
  {
   "cell_type": "code",
   "execution_count": 2,
   "metadata": {},
   "outputs": [],
   "source": [
    "titles = [] # list of news titles\n",
    "categories = [] # list of news categories\n",
    "labels = [] # list of different categories (without repetitions)\n",
    "nlabels = 4 # number of different categories\n",
    "lnews = [] # list of dictionaries with two fields: one for the news and \n",
    "            # the other for its category"
   ]
  },
  {
   "cell_type": "markdown",
   "metadata": {},
   "source": [
    "The code for this section will be organized in two functions: one which imports the data and the other which counts the news in each category, its percentage and plots it. "
   ]
  },
  {
   "cell_type": "code",
   "execution_count": 3,
   "metadata": {},
   "outputs": [],
   "source": [
    "def import_data():\n",
    "    global titles, labels, categories\n",
    "    # importing news aggregator data via Pandas (Python Data Analysis Library)\n",
    "    news = pd.read_csv(\"uci-news-aggregator.csv\")\n",
    "    # function 'head' shows the first 5 items in a column (or\n",
    "    # the first 5 rows in the DataFrame)\n",
    "    print(news.head())\n",
    "    categories = news['CATEGORY']\n",
    "    titles = news['TITLE']\n",
    "    labels = sorted(list(set(categories)))    "
   ]
  },
  {
   "cell_type": "markdown",
   "metadata": {},
   "source": [
    "Let's see how long it takes to import the data by %time [magic command](https://ipython.org/ipython-doc/3/interactive/magics.html)."
   ]
  },
  {
   "cell_type": "code",
   "execution_count": 4,
   "metadata": {},
   "outputs": [
    {
     "name": "stdout",
     "output_type": "stream",
     "text": [
      "   ID                                              TITLE  \\\n",
      "0   1  Fed official says weak data caused by weather,...   \n",
      "1   2  Fed's Charles Plosser sees high bar for change...   \n",
      "2   3  US open: Stocks fall after Fed official hints ...   \n",
      "3   4  Fed risks falling 'behind the curve', Charles ...   \n",
      "4   5  Fed's Plosser: Nasty Weather Has Curbed Job Gr...   \n",
      "\n",
      "                                                 URL          PUBLISHER  \\\n",
      "0  http://www.latimes.com/business/money/la-fi-mo...  Los Angeles Times   \n",
      "1  http://www.livemint.com/Politics/H2EvwJSK2VE6O...           Livemint   \n",
      "2  http://www.ifamagazine.com/news/us-open-stocks...       IFA Magazine   \n",
      "3  http://www.ifamagazine.com/news/fed-risks-fall...       IFA Magazine   \n",
      "4  http://www.moneynews.com/Economy/federal-reser...          Moneynews   \n",
      "\n",
      "  CATEGORY                          STORY             HOSTNAME      TIMESTAMP  \n",
      "0        b  ddUyU0VZz0BRneMioxUPQVP6sIxvM      www.latimes.com  1394470370698  \n",
      "1        b  ddUyU0VZz0BRneMioxUPQVP6sIxvM     www.livemint.com  1394470371207  \n",
      "2        b  ddUyU0VZz0BRneMioxUPQVP6sIxvM  www.ifamagazine.com  1394470371550  \n",
      "3        b  ddUyU0VZz0BRneMioxUPQVP6sIxvM  www.ifamagazine.com  1394470371793  \n",
      "4        b  ddUyU0VZz0BRneMioxUPQVP6sIxvM    www.moneynews.com  1394470372027  \n",
      "CPU times: user 1.54 s, sys: 163 ms, total: 1.71 s\n",
      "Wall time: 1.85 s\n"
     ]
    }
   ],
   "source": [
    "%time import_data()"
   ]
  },
  {
   "cell_type": "markdown",
   "metadata": {},
   "source": [
    "The time to import the dat was 3.54 seconds. Let's analyze how many news we have from the different categories and its percentage. We will use the [class Counter](https://docs.python.org/3/library/collections.html#counter-objects) from the collections library, which keeps track of how many values contains a collection. Then we will tabulate the different categories and its percentage via a DataFrame."
   ]
  },
  {
   "cell_type": "code",
   "execution_count": 5,
   "metadata": {},
   "outputs": [
    {
     "name": "stdout",
     "output_type": "stream",
     "text": [
      "  category    news   percent\n",
      "0        b  115967  0.274531\n",
      "1        e  152469  0.360943\n",
      "2        m   45639  0.108042\n",
      "3        t  108344  0.256485\n",
      "total \t 422419\n"
     ]
    }
   ],
   "source": [
    "from collections import Counter\n",
    "\n",
    "def count_data(labels,categories):    \n",
    "    c = Counter(categories)\n",
    "    cont = dict(c)\n",
    "    # total number of news\n",
    "    tot = sum(list(cont.values()))     \n",
    "    d = {\n",
    "        \"category\" : labels,\n",
    "        \"news\" : [cont[l] for l in labels],\n",
    "        \"percent\" : [cont[l]/tot for l in labels]\n",
    "    }\n",
    "   \n",
    "    print(pd.DataFrame(d))   \n",
    "    print(\"total \\t\",tot) \n",
    "    \n",
    "    return cont\n",
    "\n",
    "cont = count_data(labels,categories)"
   ]
  },
  {
   "cell_type": "markdown",
   "metadata": {},
   "source": [
    "Let's show a [pie plot](http://scikit-learn.org/stable/auto_examples/model_selection/plot_confusion_matrix.html#sphx-glr-auto-examples-model-selection-plot-confusion-matrix-py) with the proportion of news by category."
   ]
  },
  {
   "cell_type": "code",
   "execution_count": 6,
   "metadata": {},
   "outputs": [
    {
     "data": {
      "image/png": "[encoded data removed]",
      "text/plain": [
       "<matplotlib.figure.Figure at 0x2b9155996c88>"
      ]
     },
     "metadata": {},
     "output_type": "display_data"
    }
   ],
   "source": [
    "import pylab as pl # useful for drawing graphics\n",
    "\n",
    "def categories_pie_plot(cont,tit):\n",
    "    global labels\n",
    "    sizes = [cont[l] for l in labels]\n",
    "    pl.pie(sizes, explode=(0, 0, 0, 0), labels=labels,\n",
    "        autopct='%1.1f%%', shadow=True, startangle=90)\n",
    "    pl.title(tit)\n",
    "    pl.show()\n",
    "    \n",
    "categories_pie_plot(cont,\"Plotting categories\")"
   ]
  },
  {
   "cell_type": "markdown",
   "metadata": {},
   "source": [
    "As we can see, the entertainment (e) category is the biggest one, which is more than three times bigger than health (m) category. In second place we have business (b) and technology (t), which are more than two times bigger than health category."
   ]
  },
  {
   "cell_type": "markdown",
   "metadata": {},
   "source": [
    "## Splitting the data "
   ]
  },
  {
   "cell_type": "markdown",
   "metadata": {},
   "source": [
    "Now we should split our data into two sets:\n",
    "1. a training set (70%) used to discover potentially predictive relationships, and\n",
    "2. a test set (30%) used to evaluate whether the discovered relationships hold and to assess the strength and utility of a predictive relationship."
   ]
  },
  {
   "cell_type": "markdown",
   "metadata": {},
   "source": [
    "Before splitting it, the data should be first permuted. [Shuffle](http://scikit-learn.org/stable/modules/generated/sklearn.utils.shuffle.html) is a method included in scikit-learn library which allows to do random permutations of collections. Then data could be splitted into a pair of train and test sets."
   ]
  },
  {
   "cell_type": "code",
   "execution_count": 7,
   "metadata": {},
   "outputs": [],
   "source": [
    "from sklearn.utils import shuffle # Shuffle arrays in a consistent way\n",
    "\n",
    "X_train = []\n",
    "y_train = []\n",
    "X_test = []\n",
    "y_test = []\n",
    "\n",
    "def split_data():\n",
    "    global titles, categories\n",
    "    global X_train, y_train, X_test, y_test,labels\n",
    "    N = len(titles)\n",
    "    Ntrain = int(N * 0.7)    \n",
    "    # Let's shuffle the data\n",
    "    titles, categories = shuffle(titles, categories, random_state=0)\n",
    "    X_train = titles[:Ntrain]\n",
    "    y_train = categories[:Ntrain]\n",
    "    X_test = titles[Ntrain:]\n",
    "    y_test = categories[Ntrain:]"
   ]
  },
  {
   "cell_type": "code",
   "execution_count": 8,
   "metadata": {},
   "outputs": [
    {
     "name": "stdout",
     "output_type": "stream",
     "text": [
      "CPU times: user 96 ms, sys: 8 ms, total: 104 ms\n",
      "Wall time: 103 ms\n"
     ]
    }
   ],
   "source": [
    "%time split_data()"
   ]
  },
  {
   "cell_type": "markdown",
   "metadata": {},
   "source": [
    "Time required to split data is 1.28 seconds. Now let's analyze the proportion of news categories in the training set."
   ]
  },
  {
   "cell_type": "code",
   "execution_count": 9,
   "metadata": {},
   "outputs": [
    {
     "name": "stdout",
     "output_type": "stream",
     "text": [
      "  category    news   percent\n",
      "0        b   81238  0.274738\n",
      "1        e  106844  0.361334\n",
      "2        m   31930  0.107984\n",
      "3        t   75681  0.255945\n",
      "total \t 295693\n"
     ]
    }
   ],
   "source": [
    "cont2 = count_data(labels,y_train)"
   ]
  },
  {
   "cell_type": "markdown",
   "metadata": {},
   "source": [
    "Percentage are very much close to the ones obtained for the whole data set. "
   ]
  },
  {
   "cell_type": "code",
   "execution_count": 10,
   "metadata": {},
   "outputs": [
    {
     "data": {
      "image/png": "[encoded data removed]",
      "text/plain": [
       "<matplotlib.figure.Figure at 0x2b916d2f68d0>"
      ]
     },
     "metadata": {},
     "output_type": "display_data"
    }
   ],
   "source": [
    "categories_pie_plot(cont2,\"Categories % in training set\")"
   ]
  },
  {
   "cell_type": "markdown",
   "metadata": {},
   "source": [
    "## Train and test the classifier"
   ]
  },
  {
   "cell_type": "markdown",
   "metadata": {},
   "source": [
    "In order to train and test the classifier, the first step should be to tokenize and count the number of occurrence of each word that appears into the news'titles using for that [CountVectorizer class](http://scikit-learn.org/stable/modules/feature_extraction.html#common-vectorizer-usage). Each term found is assigned a unique integer index.\n",
    "Then the counters will be transformed to a TF-IDF representation using [TfidfTransformer class](http://scikit-learn.org/stable/modules/feature_extraction.html#tfidf-term-weighting). The last step creates the [Multinomial Naive Bayes classifier](http://scikit-learn.org/stable/modules/naive_bayes.html#multinomial-naive-bayes). \n",
    "In order to make the training process easier, scikit-learn provides a [Pipeline class](http://scikit-learn.org/stable/modules/pipeline.html) that behaves like a compound classifier. \n",
    "The [metrics module](http://scikit-learn.org/stable/modules/classes.html) allows to calculate score functions, performance metrics and pairwise metrics and distance computations. F1-score can be interpreted as a weighted average of the [precision and recall](https://en.wikipedia.org/wiki/Precision_and_recall)."
   ]
  },
  {
   "cell_type": "code",
   "execution_count": 11,
   "metadata": {},
   "outputs": [],
   "source": [
    "from sklearn.feature_extraction.text import CountVectorizer \n",
    "from sklearn.feature_extraction.text import TfidfTransformer \n",
    "from sklearn.naive_bayes import MultinomialNB \n",
    "from sklearn.pipeline import Pipeline \n",
    "from sklearn import metrics \n",
    "import numpy as np\n",
    "import pprint\n",
    "\n",
    "# lmats = [] # list of confussion matrix \n",
    "nrows = nlabels\n",
    "ncols = nlabels\n",
    "# conf_mat_sum = np.zeros((nrows, ncols))\n",
    "# f1_acum = [] # list of f1-score\n",
    "\n",
    "def train_test():\n",
    "    global X_train, y_train, X_test, y_test, labels \n",
    "    #lmats, \\\n",
    "     #       conf_mat_sum, f1_acum, ncategories\n",
    "    text_clf = Pipeline([('vect', CountVectorizer()),\n",
    "                         ('tfidf', TfidfTransformer()),\n",
    "                         ('clf', MultinomialNB()),\n",
    "                         ])\n",
    "    text_clf = text_clf.fit(X_train, y_train)\n",
    "    predicted = text_clf.predict(X_test)\n",
    "    return predicted"
   ]
  },
  {
   "cell_type": "code",
   "execution_count": 12,
   "metadata": {},
   "outputs": [
    {
     "name": "stdout",
     "output_type": "stream",
     "text": [
      "CPU times: user 6.4 s, sys: 59 ms, total: 6.46 s\n",
      "Wall time: 6.47 s\n"
     ]
    }
   ],
   "source": [
    "%time predicted = train_test()"
   ]
  },
  {
   "cell_type": "markdown",
   "metadata": {},
   "source": [
    "To compare the predicted labels to the corresponding set of true labels we will use the [method accuracy_score from scikit-learn](http://scikit-learn.org/stable/modules/generated/sklearn.metrics.accuracy_score.html), which gives an accuracy over 0.92"
   ]
  },
  {
   "cell_type": "code",
   "execution_count": 13,
   "metadata": {},
   "outputs": [
    {
     "data": {
      "text/plain": [
       "0.9238041128103152"
      ]
     },
     "execution_count": 13,
     "metadata": {},
     "output_type": "execute_result"
    }
   ],
   "source": [
    "metrics.accuracy_score(y_test, predicted)"
   ]
  },
  {
   "cell_type": "markdown",
   "metadata": {},
   "source": [
    "To show the main classification metrics we will use the [classification_report method](http://scikit-learn.org/stable/modules/generated/sklearn.metrics.classification_report.html) from scikit-learn."
   ]
  },
  {
   "cell_type": "code",
   "execution_count": 14,
   "metadata": {},
   "outputs": [
    {
     "name": "stdout",
     "output_type": "stream",
     "text": [
      "             precision    recall  f1-score   support\n",
      "\n",
      "          b       0.90      0.91      0.90     34729\n",
      "          e       0.95      0.97      0.96     45625\n",
      "          m       0.97      0.85      0.90     13709\n",
      "          t       0.90      0.90      0.90     32663\n",
      "\n",
      "avg / total       0.92      0.92      0.92    126726\n",
      "\n"
     ]
    }
   ],
   "source": [
    "print(metrics.classification_report(y_test, predicted, target_names=labels))"
   ]
  },
  {
   "cell_type": "markdown",
   "metadata": {},
   "source": [
    "We can see that, although the metrics (precision, recall and f1-score) in average give us 0.92, the results for category e (entertainment) are even better."
   ]
  },
  {
   "cell_type": "markdown",
   "metadata": {},
   "source": [
    "[Confusion matrix](http://scikit-learn.org/stable/auto_examples/model_selection/plot_confusion_matrix.html) allows to detect if a classification algorithm is confusing two or more classes if you have an unequal number of observations in each class as in this case. An ideal classifier with 100% accuracy would produce a pure diagonal matrix which would have all the points predicted in their correct class. In case of class imbalance, confusion matrix normalization by class support size (number of elements in each class) can be interesting in order to have a visual interpretation of which class is being misclassified."
   ]
  },
  {
   "cell_type": "code",
   "execution_count": 15,
   "metadata": {},
   "outputs": [
    {
     "data": {
      "text/plain": [
       "array([[0.91004636, 0.02361139, 0.00552852, 0.06081373],\n",
       "       [0.01176986, 0.97192329, 0.00192877, 0.01437808],\n",
       "       [0.06200306, 0.06193012, 0.84601357, 0.03005325],\n",
       "       [0.06778312, 0.02510486, 0.00324526, 0.90386676]])"
      ]
     },
     "execution_count": 15,
     "metadata": {},
     "output_type": "execute_result"
    }
   ],
   "source": [
    "mat = metrics.confusion_matrix(y_test, predicted,labels=labels)\n",
    "cm = mat.astype('float') / mat.sum(axis=1)[:, np.newaxis]\n",
    "cm"
   ]
  },
  {
   "cell_type": "markdown",
   "metadata": {},
   "source": [
    "Let's print a plot for the confussion matrix."
   ]
  },
  {
   "cell_type": "code",
   "execution_count": 16,
   "metadata": {},
   "outputs": [],
   "source": [
    "import itertools\n",
    "import matplotlib.pyplot as plt\n",
    "\n",
    "def plot_confusion_matrix(cm, classes,\n",
    "                          title='Confusion matrix',\n",
    "                          cmap=plt.cm.Blues):\n",
    "    \"\"\"\n",
    "    This function prints and plots the confusion matrix.\n",
    "    \"\"\"\n",
    "    plt.imshow(cm, interpolation='nearest', cmap=cmap)\n",
    "    plt.title(title)\n",
    "    plt.colorbar()\n",
    "    tick_marks = np.arange(len(classes))\n",
    "    plt.xticks(tick_marks, classes, rotation=45)\n",
    "    plt.yticks(tick_marks, classes)\n",
    "\n",
    "    thresh = cm.max() / 2.\n",
    "    for i, j in itertools.product(range(cm.shape[0]), range(cm.shape[1])):\n",
    "        plt.text(j, i, '{:5.2f}'.format(cm[i, j]),\n",
    "                 horizontalalignment=\"center\",\n",
    "                 color=\"white\" if cm[i, j] > thresh else \"black\")\n",
    "\n",
    "    plt.tight_layout()\n",
    "    plt.ylabel('True label')\n",
    "    plt.xlabel('Predicted label')\n",
    "    plt.colorbar()\n",
    "    plt.show()"
   ]
  },
  {
   "cell_type": "code",
   "execution_count": 17,
   "metadata": {},
   "outputs": [
    {
     "data": {
      "image/png": "[encoded data removed]",
      "text/plain": [
       "<matplotlib.figure.Figure at 0x2b918123b160>"
      ]
     },
     "metadata": {},
     "output_type": "display_data"
    }
   ],
   "source": [
    "plot_confusion_matrix(cm, labels, title='Confusion matrix')"
   ]
  },
  {
   "cell_type": "markdown",
   "metadata": {},
   "source": [
    "Confussion matrix columns represent the instances in a predicted class while rows represent the instances in an actual class. The diagonal elements represent the number of points for which the predicted label is equal to the true label, while off-diagonal elements are those that are mislabeled by the classifier. The higher the diagonal values of the confusion matrix the better, indicating many correct predictions."
   ]
  },
  {
   "cell_type": "markdown",
   "metadata": {},
   "source": [
    "Now, let's see the relation between [f1-score](http://scikit-learn.org/stable/modules/generated/sklearn.metrics.f1_score.html) and the percentage by category"
   ]
  },
  {
   "cell_type": "code",
   "execution_count": 18,
   "metadata": {},
   "outputs": [],
   "source": [
    "def resume_data(labels,y_train,f1s):\n",
    "    c = Counter(y_train)\n",
    "    cont = dict(c)\n",
    "    tot = sum(list(cont.values()))\n",
    "    nlabels = len(labels)\n",
    "    d = {\n",
    "        \"category\" : [labels[i] for i in range(nlabels)],\n",
    "        \"percent\" : [cont[labels[i]]/tot for i in range(nlabels)],\n",
    "        \"f1-score\" : [f1s[i] for i in range(nlabels)]\n",
    "    }\n",
    "   \n",
    "    print(pd.DataFrame(d))   \n",
    "    print(\"total \\t\",tot) \n",
    "    return cont"
   ]
  },
  {
   "cell_type": "code",
   "execution_count": 19,
   "metadata": {},
   "outputs": [
    {
     "name": "stdout",
     "output_type": "stream",
     "text": [
      "  category  f1-score   percent\n",
      "0        b  0.903839  0.274738\n",
      "1        e  0.959225  0.361334\n",
      "2        m  0.902814  0.107984\n",
      "3        t  0.903314  0.255945\n",
      "total \t 295693\n"
     ]
    }
   ],
   "source": [
    "f1s = metrics.f1_score(y_test, predicted, labels=labels, average=None)\n",
    "cont3 = resume_data(labels,y_train,f1s)"
   ]
  },
  {
   "cell_type": "markdown",
   "metadata": {},
   "source": [
    "## Results analysis"
   ]
  },
  {
   "cell_type": "markdown",
   "metadata": {},
   "source": [
    "As a resume, results show a good accuracy (0.9238) with a good average level for precision, recall and f1-score (0.92) Analyzing these results by category, results are even better for the entertainment category ('e') with 0.96 for f1-score, 0.97 for recall and 0.95 for precision. I would like to highlight that best result for prediction corresponds to health category ('m') with 0.97, but with a recall of 0.85. Other categories show a more even behavior.  \n",
    "Analyzing confusion matrix results, the higher index of points predicted in their correct class for category 'e' with 0.9719. This category presents a misclassification index of 0.014 for technology category ('t') and lower indexes for the other categories.\n",
    "On the contrary, category 'm' presents the worst hit rate with an indicator of 0.846, which has misclassification indexes of 0.062 with business category ('b'), of 0.0619 with category 'e' and of 0.03 with category 't'.\n",
    "Analyzing the number of news by category, category 'e' presents the higher percentage, 36%, with 45625 news. On the other hand, category 'm' presents the lower percentage, 10.79%, with just 13709 news. Thus, category 'e' is more than three times bigger than category 'm'. Categories 'b' and 't' present similar number of news and percentage: 'b' has 34729 news with 27%, and 't' has 32663 news with a 25%. Both categories, 'b' and 't', are more than two times bigger than category 'm'. According to these, better results seem to correspond with higher percentage categories. In future experiments, I would try to confirm this hypothesis.\n",
    "In this experience, we just trained the classification algorithm with one set of data, so we just have one set of results. Although the training set and the test set were selected by random, it is just a sample of the possible results. In future experiments, I would try to test which is the confidence of the experiment results. "
   ]
  }
 ],
 "metadata": {
  "kernelspec": {
   "display_name": "Python 3",
   "language": "python",
   "name": "python3"
  },
  "language_info": {
   "codemirror_mode": {
    "name": "ipython",
    "version": 3
   },
   "file_extension": ".py",
   "mimetype": "text/x-python",
   "name": "python",
   "nbconvert_exporter": "python",
   "pygments_lexer": "ipython3",
   "version": "3.6.4"
  }
 },
 "nbformat": 4,
 "nbformat_minor": 1
}
